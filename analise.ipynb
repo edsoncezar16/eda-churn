{
  "nbformat": 4,
  "nbformat_minor": 0,
  "metadata": {
    "colab": {
      "provenance": [],
      "authorship_tag": "ABX9TyPD3NCcvU4GP61Nya3AkciG",
      "include_colab_link": true
    },
    "kernelspec": {
      "name": "python3",
      "display_name": "Python 3"
    },
    "language_info": {
      "name": "python"
    }
  },
  "cells": [
    {
      "cell_type": "markdown",
      "metadata": {
        "id": "view-in-github",
        "colab_type": "text"
      },
      "source": [
        "<a href=\"https://colab.research.google.com/github/edsoncezar16/eda-churn/blob/main/analise.ipynb\" target=\"_parent\"><img src=\"https://colab.research.google.com/assets/colab-badge.svg\" alt=\"Open In Colab\"/></a>"
      ]
    },
    {
      "cell_type": "markdown",
      "source": [
        "# Importando bibliotecas e configurações preliminares "
      ],
      "metadata": {
        "id": "iyxgRHxt6NES"
      }
    },
    {
      "cell_type": "code",
      "execution_count": 1,
      "metadata": {
        "id": "NYUAQVem3T2J"
      },
      "outputs": [],
      "source": [
        "# importando bibliotecas necessarias\n",
        "import pandas as pd\n",
        "import numpy as np\n",
        "from matplotlib import pyplot as plt\n",
        "import seaborn as sns\n",
        "\n",
        "# ajustando uma configuração satisfatória para os gráficos\n",
        "sns.set_theme(style='darkgrid', rc={'figure.figsize':(12,6)})\n"
      ]
    },
    {
      "cell_type": "markdown",
      "source": [
        "# Lendo os dados"
      ],
      "metadata": {
        "id": "jhTfuvO06uKG"
      }
    },
    {
      "cell_type": "code",
      "source": [
        "churn_data_raw = pd.read_csv('/content/churn.csv', index_col='RowNumber')"
      ],
      "metadata": {
        "id": "buK55fFu5eq6"
      },
      "execution_count": 4,
      "outputs": []
    },
    {
      "cell_type": "markdown",
      "source": [
        "# Tratamento dos dados"
      ],
      "metadata": {
        "id": "fuF9387U8Op7"
      }
    },
    {
      "cell_type": "markdown",
      "source": [
        "## Visualizando algumas instâncias da base de dados"
      ],
      "metadata": {
        "id": "rG1oWfWR8YFK"
      }
    },
    {
      "cell_type": "code",
      "source": [
        "churn_data_raw.head()"
      ],
      "metadata": {
        "colab": {
          "base_uri": "https://localhost:8080/",
          "height": 302
        },
        "id": "U5oMO51p8Mu-",
        "outputId": "fa669c0c-d439-4fed-a7c2-3157befbcb46"
      },
      "execution_count": 5,
      "outputs": [
        {
          "output_type": "execute_result",
          "data": {
            "text/plain": [
              "           CustomerId   Surname  CreditScore Geography  Gender  Age  Tenure  \\\n",
              "RowNumber                                                                     \n",
              "1            15634602  Hargrave          619    France  Female   42       2   \n",
              "2            15647311      Hill          608     Spain  Female   41       1   \n",
              "3            15619304      Onio          502    France  Female   42       8   \n",
              "4            15701354      Boni          699    France  Female   39       1   \n",
              "5            15737888  Mitchell          850     Spain  Female   43       2   \n",
              "\n",
              "             Balance  NumOfProducts  HasCrCard  IsActiveMember  \\\n",
              "RowNumber                                                        \n",
              "1               0.00              1          1               1   \n",
              "2           83807.86              1          0               1   \n",
              "3          159660.80              3          1               0   \n",
              "4               0.00              2          0               0   \n",
              "5          125510.82              1          1               1   \n",
              "\n",
              "           EstimatedSalary  Exited  \n",
              "RowNumber                           \n",
              "1                101348.88       1  \n",
              "2                112542.58       0  \n",
              "3                113931.57       1  \n",
              "4                 93826.63       0  \n",
              "5                 79084.10       0  "
            ],
            "text/html": [
              "\n",
              "  <div id=\"df-9f397dfa-ee05-486b-b41e-93465a104cf5\">\n",
              "    <div class=\"colab-df-container\">\n",
              "      <div>\n",
              "<style scoped>\n",
              "    .dataframe tbody tr th:only-of-type {\n",
              "        vertical-align: middle;\n",
              "    }\n",
              "\n",
              "    .dataframe tbody tr th {\n",
              "        vertical-align: top;\n",
              "    }\n",
              "\n",
              "    .dataframe thead th {\n",
              "        text-align: right;\n",
              "    }\n",
              "</style>\n",
              "<table border=\"1\" class=\"dataframe\">\n",
              "  <thead>\n",
              "    <tr style=\"text-align: right;\">\n",
              "      <th></th>\n",
              "      <th>CustomerId</th>\n",
              "      <th>Surname</th>\n",
              "      <th>CreditScore</th>\n",
              "      <th>Geography</th>\n",
              "      <th>Gender</th>\n",
              "      <th>Age</th>\n",
              "      <th>Tenure</th>\n",
              "      <th>Balance</th>\n",
              "      <th>NumOfProducts</th>\n",
              "      <th>HasCrCard</th>\n",
              "      <th>IsActiveMember</th>\n",
              "      <th>EstimatedSalary</th>\n",
              "      <th>Exited</th>\n",
              "    </tr>\n",
              "    <tr>\n",
              "      <th>RowNumber</th>\n",
              "      <th></th>\n",
              "      <th></th>\n",
              "      <th></th>\n",
              "      <th></th>\n",
              "      <th></th>\n",
              "      <th></th>\n",
              "      <th></th>\n",
              "      <th></th>\n",
              "      <th></th>\n",
              "      <th></th>\n",
              "      <th></th>\n",
              "      <th></th>\n",
              "      <th></th>\n",
              "    </tr>\n",
              "  </thead>\n",
              "  <tbody>\n",
              "    <tr>\n",
              "      <th>1</th>\n",
              "      <td>15634602</td>\n",
              "      <td>Hargrave</td>\n",
              "      <td>619</td>\n",
              "      <td>France</td>\n",
              "      <td>Female</td>\n",
              "      <td>42</td>\n",
              "      <td>2</td>\n",
              "      <td>0.00</td>\n",
              "      <td>1</td>\n",
              "      <td>1</td>\n",
              "      <td>1</td>\n",
              "      <td>101348.88</td>\n",
              "      <td>1</td>\n",
              "    </tr>\n",
              "    <tr>\n",
              "      <th>2</th>\n",
              "      <td>15647311</td>\n",
              "      <td>Hill</td>\n",
              "      <td>608</td>\n",
              "      <td>Spain</td>\n",
              "      <td>Female</td>\n",
              "      <td>41</td>\n",
              "      <td>1</td>\n",
              "      <td>83807.86</td>\n",
              "      <td>1</td>\n",
              "      <td>0</td>\n",
              "      <td>1</td>\n",
              "      <td>112542.58</td>\n",
              "      <td>0</td>\n",
              "    </tr>\n",
              "    <tr>\n",
              "      <th>3</th>\n",
              "      <td>15619304</td>\n",
              "      <td>Onio</td>\n",
              "      <td>502</td>\n",
              "      <td>France</td>\n",
              "      <td>Female</td>\n",
              "      <td>42</td>\n",
              "      <td>8</td>\n",
              "      <td>159660.80</td>\n",
              "      <td>3</td>\n",
              "      <td>1</td>\n",
              "      <td>0</td>\n",
              "      <td>113931.57</td>\n",
              "      <td>1</td>\n",
              "    </tr>\n",
              "    <tr>\n",
              "      <th>4</th>\n",
              "      <td>15701354</td>\n",
              "      <td>Boni</td>\n",
              "      <td>699</td>\n",
              "      <td>France</td>\n",
              "      <td>Female</td>\n",
              "      <td>39</td>\n",
              "      <td>1</td>\n",
              "      <td>0.00</td>\n",
              "      <td>2</td>\n",
              "      <td>0</td>\n",
              "      <td>0</td>\n",
              "      <td>93826.63</td>\n",
              "      <td>0</td>\n",
              "    </tr>\n",
              "    <tr>\n",
              "      <th>5</th>\n",
              "      <td>15737888</td>\n",
              "      <td>Mitchell</td>\n",
              "      <td>850</td>\n",
              "      <td>Spain</td>\n",
              "      <td>Female</td>\n",
              "      <td>43</td>\n",
              "      <td>2</td>\n",
              "      <td>125510.82</td>\n",
              "      <td>1</td>\n",
              "      <td>1</td>\n",
              "      <td>1</td>\n",
              "      <td>79084.10</td>\n",
              "      <td>0</td>\n",
              "    </tr>\n",
              "  </tbody>\n",
              "</table>\n",
              "</div>\n",
              "      <button class=\"colab-df-convert\" onclick=\"convertToInteractive('df-9f397dfa-ee05-486b-b41e-93465a104cf5')\"\n",
              "              title=\"Convert this dataframe to an interactive table.\"\n",
              "              style=\"display:none;\">\n",
              "        \n",
              "  <svg xmlns=\"http://www.w3.org/2000/svg\" height=\"24px\"viewBox=\"0 0 24 24\"\n",
              "       width=\"24px\">\n",
              "    <path d=\"M0 0h24v24H0V0z\" fill=\"none\"/>\n",
              "    <path d=\"M18.56 5.44l.94 2.06.94-2.06 2.06-.94-2.06-.94-.94-2.06-.94 2.06-2.06.94zm-11 1L8.5 8.5l.94-2.06 2.06-.94-2.06-.94L8.5 2.5l-.94 2.06-2.06.94zm10 10l.94 2.06.94-2.06 2.06-.94-2.06-.94-.94-2.06-.94 2.06-2.06.94z\"/><path d=\"M17.41 7.96l-1.37-1.37c-.4-.4-.92-.59-1.43-.59-.52 0-1.04.2-1.43.59L10.3 9.45l-7.72 7.72c-.78.78-.78 2.05 0 2.83L4 21.41c.39.39.9.59 1.41.59.51 0 1.02-.2 1.41-.59l7.78-7.78 2.81-2.81c.8-.78.8-2.07 0-2.86zM5.41 20L4 18.59l7.72-7.72 1.47 1.35L5.41 20z\"/>\n",
              "  </svg>\n",
              "      </button>\n",
              "      \n",
              "  <style>\n",
              "    .colab-df-container {\n",
              "      display:flex;\n",
              "      flex-wrap:wrap;\n",
              "      gap: 12px;\n",
              "    }\n",
              "\n",
              "    .colab-df-convert {\n",
              "      background-color: #E8F0FE;\n",
              "      border: none;\n",
              "      border-radius: 50%;\n",
              "      cursor: pointer;\n",
              "      display: none;\n",
              "      fill: #1967D2;\n",
              "      height: 32px;\n",
              "      padding: 0 0 0 0;\n",
              "      width: 32px;\n",
              "    }\n",
              "\n",
              "    .colab-df-convert:hover {\n",
              "      background-color: #E2EBFA;\n",
              "      box-shadow: 0px 1px 2px rgba(60, 64, 67, 0.3), 0px 1px 3px 1px rgba(60, 64, 67, 0.15);\n",
              "      fill: #174EA6;\n",
              "    }\n",
              "\n",
              "    [theme=dark] .colab-df-convert {\n",
              "      background-color: #3B4455;\n",
              "      fill: #D2E3FC;\n",
              "    }\n",
              "\n",
              "    [theme=dark] .colab-df-convert:hover {\n",
              "      background-color: #434B5C;\n",
              "      box-shadow: 0px 1px 3px 1px rgba(0, 0, 0, 0.15);\n",
              "      filter: drop-shadow(0px 1px 2px rgba(0, 0, 0, 0.3));\n",
              "      fill: #FFFFFF;\n",
              "    }\n",
              "  </style>\n",
              "\n",
              "      <script>\n",
              "        const buttonEl =\n",
              "          document.querySelector('#df-9f397dfa-ee05-486b-b41e-93465a104cf5 button.colab-df-convert');\n",
              "        buttonEl.style.display =\n",
              "          google.colab.kernel.accessAllowed ? 'block' : 'none';\n",
              "\n",
              "        async function convertToInteractive(key) {\n",
              "          const element = document.querySelector('#df-9f397dfa-ee05-486b-b41e-93465a104cf5');\n",
              "          const dataTable =\n",
              "            await google.colab.kernel.invokeFunction('convertToInteractive',\n",
              "                                                     [key], {});\n",
              "          if (!dataTable) return;\n",
              "\n",
              "          const docLinkHtml = 'Like what you see? Visit the ' +\n",
              "            '<a target=\"_blank\" href=https://colab.research.google.com/notebooks/data_table.ipynb>data table notebook</a>'\n",
              "            + ' to learn more about interactive tables.';\n",
              "          element.innerHTML = '';\n",
              "          dataTable['output_type'] = 'display_data';\n",
              "          await google.colab.output.renderOutput(dataTable, element);\n",
              "          const docLink = document.createElement('div');\n",
              "          docLink.innerHTML = docLinkHtml;\n",
              "          element.appendChild(docLink);\n",
              "        }\n",
              "      </script>\n",
              "    </div>\n",
              "  </div>\n",
              "  "
            ]
          },
          "metadata": {},
          "execution_count": 5
        }
      ]
    },
    {
      "cell_type": "markdown",
      "source": [
        "## Obtendo informações da base de dados"
      ],
      "metadata": {
        "id": "ZxqoRCQJ812T"
      }
    },
    {
      "cell_type": "code",
      "source": [
        "churn_data_raw.info()"
      ],
      "metadata": {
        "colab": {
          "base_uri": "https://localhost:8080/"
        },
        "id": "ucJTr0IT8eeF",
        "outputId": "90875384-570b-404b-f523-2d7b67b78f68"
      },
      "execution_count": 6,
      "outputs": [
        {
          "output_type": "stream",
          "name": "stdout",
          "text": [
            "<class 'pandas.core.frame.DataFrame'>\n",
            "Int64Index: 10000 entries, 1 to 10000\n",
            "Data columns (total 13 columns):\n",
            " #   Column           Non-Null Count  Dtype  \n",
            "---  ------           --------------  -----  \n",
            " 0   CustomerId       10000 non-null  int64  \n",
            " 1   Surname          10000 non-null  object \n",
            " 2   CreditScore      10000 non-null  int64  \n",
            " 3   Geography        10000 non-null  object \n",
            " 4   Gender           10000 non-null  object \n",
            " 5   Age              10000 non-null  int64  \n",
            " 6   Tenure           10000 non-null  int64  \n",
            " 7   Balance          10000 non-null  float64\n",
            " 8   NumOfProducts    10000 non-null  int64  \n",
            " 9   HasCrCard        10000 non-null  int64  \n",
            " 10  IsActiveMember   10000 non-null  int64  \n",
            " 11  EstimatedSalary  10000 non-null  float64\n",
            " 12  Exited           10000 non-null  int64  \n",
            "dtypes: float64(2), int64(8), object(3)\n",
            "memory usage: 1.1+ MB\n"
          ]
        }
      ]
    },
    {
      "cell_type": "markdown",
      "source": [
        "Notamos que não há dados faltantes. Quanto ao significado das variáveis, dispomos do seguinte dicionário de dados:\n",
        "\n",
        "CustomerId: identificação do cliente.\n",
        "\n",
        "Surname: sobrenome do cliente.\n",
        "\n",
        "CreditScore: pontuação de credito, 0 alto risco de inadimplência e 1000 clientes com baixo risco de inadimplência.\n",
        "\n",
        "Geography: país que o serviço é oferecido.\n",
        "\n",
        "Gender: sexo do cliente.\n",
        "\n",
        "Age: idade do cleinte.\n",
        "\n",
        "Tenure: um indicativo de estabilidade no emprego, em que 0 significa pouca estabilidade e 10 muita estabilidade.\n",
        "\n",
        "Balance: saldo da conta corrente.\n",
        "\n",
        "NumOfProducts: número de produtos bancários adquiridos.\n",
        "\n",
        "HasCrCard: se tem cartão de credito ou não, (Sim = 1 e Não = 0).\n",
        "\n",
        "IsActiveMember: se é um cliente com conta ativa, (Ativo = 1).\n",
        "\n",
        "EstimatedSalary: salário estimado.\n",
        "\n",
        "Exited: cliente deixou de ser cliente do banco ou não (Churn = 1).\n"
      ],
      "metadata": {
        "id": "2e1mwHZmAJTw"
      }
    },
    {
      "cell_type": "markdown",
      "source": [
        "# Analisando a distribuição da variável alvo"
      ],
      "metadata": {
        "id": "Dimm2iKgH_3B"
      }
    },
    {
      "cell_type": "code",
      "source": [
        "ax = sns.histplot(\n",
        "            data=churn_data_raw, x='Exited', discrete=True, \n",
        "            shrink=0.8\n",
        "        )\n",
        "xticks = []\n",
        "for rectangle in ax.patches:\n",
        "    count = rectangle.get_height()\n",
        "    x = rectangle.get_x() + rectangle.get_width() / 2\n",
        "    y = rectangle.get_height()\n",
        "    ax.annotate(f'{count}', (x, y))\n",
        "    xticks.append(x)\n",
        "ax.set_xticks(xticks)"
      ],
      "metadata": {
        "colab": {
          "base_uri": "https://localhost:8080/",
          "height": 429
        },
        "id": "psuE4AA5_8kB",
        "outputId": "7649bdea-7423-43a8-9d80-de47175af2a2"
      },
      "execution_count": 7,
      "outputs": [
        {
          "output_type": "execute_result",
          "data": {
            "text/plain": [
              "[<matplotlib.axis.XTick at 0x7fe4bb6366d0>,\n",
              " <matplotlib.axis.XTick at 0x7fe4bb636ad0>]"
            ]
          },
          "metadata": {},
          "execution_count": 7
        },
        {
          "output_type": "display_data",
          "data": {
            "text/plain": [
              "<Figure size 864x432 with 1 Axes>"
            ],
            "image/png": "[encoded data removed]"
          },
          "metadata": {}
        }
      ]
    },
    {
      "cell_type": "markdown",
      "source": [
        "Dado que o total de daos é 10000, temos aproximadamente 20% de clientes que deram churn. Vamos analisar o impacto desse status de cliente na distribuição das variáveis mais propícias a explicar o cenário.\n"
      ],
      "metadata": {
        "id": "pPCzV6faNYDo"
      }
    },
    {
      "cell_type": "markdown",
      "source": [
        "# Analisando a relação entre CreditScore e Exited"
      ],
      "metadata": {
        "id": "ScT-Yj3NN9eZ"
      }
    },
    {
      "cell_type": "markdown",
      "source": [
        "## Distribuição de CreditScore"
      ],
      "metadata": {
        "id": "_cw1md85Pvlo"
      }
    },
    {
      "cell_type": "code",
      "source": [
        "sns.boxplot(data=churn_data_raw, x='CreditScore')"
      ],
      "metadata": {
        "colab": {
          "base_uri": "https://localhost:8080/",
          "height": 411
        },
        "id": "VVCh9VRbP0sJ",
        "outputId": "c33fe0ef-ff41-4a34-b4eb-c2fedf10a61f"
      },
      "execution_count": 9,
      "outputs": [
        {
          "output_type": "execute_result",
          "data": {
            "text/plain": [
              "<matplotlib.axes._subplots.AxesSubplot at 0x7fe4b83fe350>"
            ]
          },
          "metadata": {},
          "execution_count": 9
        },
        {
          "output_type": "display_data",
          "data": {
            "text/plain": [
              "<Figure size 864x432 with 1 Axes>"
            ],
            "image/png": "[encoded data removed]"
          },
          "metadata": {}
        }
      ]
    },
    {
      "cell_type": "code",
      "source": [
        "churn_data_raw.CreditScore.describe()"
      ],
      "metadata": {
        "colab": {
          "base_uri": "https://localhost:8080/"
        },
        "id": "mqJhbpUvT8A2",
        "outputId": "c7add545-4bdb-496a-fead-fa7d29d5a566"
      },
      "execution_count": 16,
      "outputs": [
        {
          "output_type": "execute_result",
          "data": {
            "text/plain": [
              "count    10000.000000\n",
              "mean       650.528800\n",
              "std         96.653299\n",
              "min        350.000000\n",
              "25%        584.000000\n",
              "50%        652.000000\n",
              "75%        718.000000\n",
              "max        850.000000\n",
              "Name: CreditScore, dtype: float64"
            ]
          },
          "metadata": {},
          "execution_count": 16
        }
      ]
    },
    {
      "cell_type": "markdown",
      "source": [
        "## Comparação entre diferentes status de churn"
      ],
      "metadata": {
        "id": "nIYuhaAaSrMB"
      }
    },
    {
      "cell_type": "code",
      "source": [
        "sns.boxplot(data=churn_data_raw, x='Exited', y='CreditScore')"
      ],
      "metadata": {
        "colab": {
          "base_uri": "https://localhost:8080/",
          "height": 411
        },
        "id": "G5QEhw6DSoiW",
        "outputId": "ea18bda3-d3c1-4a77-e994-bb43bd580a2d"
      },
      "execution_count": 14,
      "outputs": [
        {
          "output_type": "execute_result",
          "data": {
            "text/plain": [
              "<matplotlib.axes._subplots.AxesSubplot at 0x7fe4b56391d0>"
            ]
          },
          "metadata": {},
          "execution_count": 14
        },
        {
          "output_type": "display_data",
          "data": {
            "text/plain": [
              "<Figure size 864x432 with 1 Axes>"
            ],
            "image/png": "[encoded data removed]"
          },
          "metadata": {}
        }
      ]
    },
    {
      "cell_type": "code",
      "source": [
        "print('Estatísticas para o perfil sem churn')\n",
        "churn_data_raw[churn_data_raw.Exited == 0].CreditScore.describe()"
      ],
      "metadata": {
        "colab": {
          "base_uri": "https://localhost:8080/"
        },
        "id": "_XvcC6I8QMYn",
        "outputId": "859ec712-9bf7-4923-c10f-82e81ab0767d"
      },
      "execution_count": 17,
      "outputs": [
        {
          "output_type": "stream",
          "name": "stdout",
          "text": [
            "Estatísticas para o perfil sem churn\n"
          ]
        },
        {
          "output_type": "execute_result",
          "data": {
            "text/plain": [
              "count    7963.000000\n",
              "mean      651.853196\n",
              "std        95.653837\n",
              "min       405.000000\n",
              "25%       585.000000\n",
              "50%       653.000000\n",
              "75%       718.000000\n",
              "max       850.000000\n",
              "Name: CreditScore, dtype: float64"
            ]
          },
          "metadata": {},
          "execution_count": 17
        }
      ]
    },
    {
      "cell_type": "code",
      "source": [
        "print('Estatísticas para o perfil de churn')\n",
        "churn_data_raw[churn_data_raw.Exited == 1].CreditScore.describe()"
      ],
      "metadata": {
        "colab": {
          "base_uri": "https://localhost:8080/"
        },
        "id": "AZReWSUFKGJP",
        "outputId": "f5e980b8-6682-481f-930f-f79ae7a506d0"
      },
      "execution_count": 18,
      "outputs": [
        {
          "output_type": "stream",
          "name": "stdout",
          "text": [
            "Estatísticas para o perfil de churn\n"
          ]
        },
        {
          "output_type": "execute_result",
          "data": {
            "text/plain": [
              "count    2037.000000\n",
              "mean      645.351497\n",
              "std       100.321503\n",
              "min       350.000000\n",
              "25%       578.000000\n",
              "50%       646.000000\n",
              "75%       716.000000\n",
              "max       850.000000\n",
              "Name: CreditScore, dtype: float64"
            ]
          },
          "metadata": {},
          "execution_count": 18
        }
      ]
    },
    {
      "cell_type": "markdown",
      "source": [
        "Podemos notar que, embora as principais métricas das distribuições de CreditScore sejam praticamente as mesmas tanto entre os clientes que deram churn ou os que não deram, notamos que todos os outliers de CreditScore possuem valor baixo e deram churn.\n",
        "\n",
        "Assim, podemos afirmar que **uma das características dos clientes que deram churn é ter um baixo risco de credit score**."
      ],
      "metadata": {
        "id": "XTymiz1FYolo"
      }
    },
    {
      "cell_type": "markdown",
      "source": [
        "Por \"baixo credit score\" podemos definir como sendo um outlier no box plot."
      ],
      "metadata": {
        "id": "wyg1uqMPjMsM"
      }
    },
    {
      "cell_type": "code",
      "source": [
        "credit_score_stats = churn_data_raw.CreditScore.describe()\n",
        "Q1 = credit_score_stats['25%']\n",
        "IQR = credit_score_stats['75%'] -  credit_score_stats['25%']\n",
        "critical_credit_score = Q1 - 1.5 * IQR\n",
        "print(f'O valor crítco para definir um baixo credit score é {critical_credit_score}.')"
      ],
      "metadata": {
        "colab": {
          "base_uri": "https://localhost:8080/"
        },
        "id": "izSQ4kKvO9My",
        "outputId": "c15c9ab4-9785-4c11-b12b-8b70c0005e47"
      },
      "execution_count": 19,
      "outputs": [
        {
          "output_type": "stream",
          "name": "stdout",
          "text": [
            "O valor crítco para definir um baixo credit score é 383.0.\n"
          ]
        }
      ]
    },
    {
      "cell_type": "markdown",
      "source": [
        "# Analisando a relação entre Geography e Exited"
      ],
      "metadata": {
        "id": "KtPWbkhXk2Pq"
      }
    },
    {
      "cell_type": "markdown",
      "source": [
        "## Distribuição de Geography"
      ],
      "metadata": {
        "id": "rbEannzDk2Pv"
      }
    },
    {
      "cell_type": "code",
      "source": [
        "sns.histplot(data=churn_data_raw, x='Geography')"
      ],
      "metadata": {
        "colab": {
          "base_uri": "https://localhost:8080/",
          "height": 411
        },
        "outputId": "1efc4ff3-86b4-4033-e68c-d5d32716fd83",
        "id": "PVsK9Kwvk2Pz"
      },
      "execution_count": 20,
      "outputs": [
        {
          "output_type": "execute_result",
          "data": {
            "text/plain": [
              "<matplotlib.axes._subplots.AxesSubplot at 0x7fe4b3075d90>"
            ]
          },
          "metadata": {},
          "execution_count": 20
        },
        {
          "output_type": "display_data",
          "data": {
            "text/plain": [
              "<Figure size 864x432 with 1 Axes>"
            ],
            "image/png": "[encoded data removed]"
          },
          "metadata": {}
        }
      ]
    },
    {
      "cell_type": "code",
      "source": [
        "churn_data_raw.Geography.describe()"
      ],
      "metadata": {
        "colab": {
          "base_uri": "https://localhost:8080/"
        },
        "outputId": "de9ce7dd-9434-4e8b-e92f-6beb0c4b64ea",
        "id": "x3qI-2qSk2P2"
      },
      "execution_count": 21,
      "outputs": [
        {
          "output_type": "execute_result",
          "data": {
            "text/plain": [
              "count      10000\n",
              "unique         3\n",
              "top       France\n",
              "freq        5014\n",
              "Name: Geography, dtype: object"
            ]
          },
          "metadata": {},
          "execution_count": 21
        }
      ]
    },
    {
      "cell_type": "code",
      "source": [
        "churn_data_raw.Geography.value_counts()"
      ],
      "metadata": {
        "colab": {
          "base_uri": "https://localhost:8080/"
        },
        "id": "6jSlIMcpl30v",
        "outputId": "3c07967c-4414-45be-aaf9-914aa1d90ef7"
      },
      "execution_count": 22,
      "outputs": [
        {
          "output_type": "execute_result",
          "data": {
            "text/plain": [
              "France     5014\n",
              "Germany    2509\n",
              "Spain      2477\n",
              "Name: Geography, dtype: int64"
            ]
          },
          "metadata": {},
          "execution_count": 22
        }
      ]
    },
    {
      "cell_type": "markdown",
      "source": [
        "## Comparação entre diferentes status de churn"
      ],
      "metadata": {
        "id": "EZS6rw3-k2P7"
      }
    },
    {
      "cell_type": "code",
      "source": [
        "sns.histplot(data=churn_data_raw, x='Exited', hue='Geography', multiple='dodge')"
      ],
      "metadata": {
        "colab": {
          "base_uri": "https://localhost:8080/",
          "height": 411
        },
        "outputId": "d2ba0d4c-862f-4122-911e-9f324ab36b8a",
        "id": "1lcxcI5ak2P_"
      },
      "execution_count": 24,
      "outputs": [
        {
          "output_type": "execute_result",
          "data": {
            "text/plain": [
              "<matplotlib.axes._subplots.AxesSubplot at 0x7fe4b2ea4c50>"
            ]
          },
          "metadata": {},
          "execution_count": 24
        },
        {
          "output_type": "display_data",
          "data": {
            "text/plain": [
              "<Figure size 864x432 with 1 Axes>"
            ],
            "image/png": "[encoded data removed]"
          },
          "metadata": {}
        }
      ]
    },
    {
      "cell_type": "markdown",
      "source": [
        "Notamos que, embora a uma maior proporção de clientes da Alemanha tenha dado churn, em comparação com os demais países, isso pode se dar pelo simples fato de que a França possui praticamente o dobro de clientes. Assim, num primeiro momento não iremos considerar esse fator como determinante."
      ],
      "metadata": {
        "id": "5HVsGDPJm2t1"
      }
    },
    {
      "cell_type": "markdown",
      "source": [
        "# Analisando a relação entre Gender e Exited"
      ],
      "metadata": {
        "id": "6tB1MS5kn_H5"
      }
    },
    {
      "cell_type": "markdown",
      "source": [
        "## Distribuição de Gender"
      ],
      "metadata": {
        "id": "rIlhVQ0En_ID"
      }
    },
    {
      "cell_type": "code",
      "source": [
        "sns.histplot(data=churn_data_raw, x='Gender')"
      ],
      "metadata": {
        "colab": {
          "base_uri": "https://localhost:8080/",
          "height": 411
        },
        "outputId": "bda63951-3abe-45b8-ab3d-52299a89ba41",
        "id": "74Ak2Ajrn_II"
      },
      "execution_count": 25,
      "outputs": [
        {
          "output_type": "execute_result",
          "data": {
            "text/plain": [
              "<matplotlib.axes._subplots.AxesSubplot at 0x7fe4b2da12d0>"
            ]
          },
          "metadata": {},
          "execution_count": 25
        },
        {
          "output_type": "display_data",
          "data": {
            "text/plain": [
              "<Figure size 864x432 with 1 Axes>"
            ],
            "image/png": "[encoded data removed]"
          },
          "metadata": {}
        }
      ]
    },
    {
      "cell_type": "code",
      "source": [
        "churn_data_raw.Gender.describe()"
      ],
      "metadata": {
        "colab": {
          "base_uri": "https://localhost:8080/"
        },
        "outputId": "e2543b57-53ac-48a3-d6f8-c5c4b97ca2c5",
        "id": "m4ze9zVWn_IO"
      },
      "execution_count": 26,
      "outputs": [
        {
          "output_type": "execute_result",
          "data": {
            "text/plain": [
              "count     10000\n",
              "unique        2\n",
              "top        Male\n",
              "freq       5457\n",
              "Name: Gender, dtype: object"
            ]
          },
          "metadata": {},
          "execution_count": 26
        }
      ]
    },
    {
      "cell_type": "code",
      "source": [
        "churn_data_raw.Gender.value_counts()"
      ],
      "metadata": {
        "colab": {
          "base_uri": "https://localhost:8080/"
        },
        "outputId": "497a28e1-327e-4590-a5d5-a7195959ed46",
        "id": "R4g-f1GGn_IS"
      },
      "execution_count": 27,
      "outputs": [
        {
          "output_type": "execute_result",
          "data": {
            "text/plain": [
              "Male      5457\n",
              "Female    4543\n",
              "Name: Gender, dtype: int64"
            ]
          },
          "metadata": {},
          "execution_count": 27
        }
      ]
    },
    {
      "cell_type": "markdown",
      "source": [
        "## Comparação entre diferentes status de churn"
      ],
      "metadata": {
        "id": "1sk3Q6eJn_IV"
      }
    },
    {
      "cell_type": "code",
      "source": [
        "sns.histplot(data=churn_data_raw, x='Exited', hue='Gender', multiple='dodge')"
      ],
      "metadata": {
        "colab": {
          "base_uri": "https://localhost:8080/",
          "height": 411
        },
        "outputId": "54fe5983-472f-446b-9303-ec5753442129",
        "id": "De9nklWCn_IY"
      },
      "execution_count": 28,
      "outputs": [
        {
          "output_type": "execute_result",
          "data": {
            "text/plain": [
              "<matplotlib.axes._subplots.AxesSubplot at 0x7fe4b2da2210>"
            ]
          },
          "metadata": {},
          "execution_count": 28
        },
        {
          "output_type": "display_data",
          "data": {
            "text/plain": [
              "<Figure size 864x432 with 1 Axes>"
            ],
            "image/png": "[encoded data removed]"
          },
          "metadata": {}
        }
      ]
    },
    {
      "cell_type": "markdown",
      "source": [
        "Neste caso, podemos concluir algo similar ao encontrado na análise da localização geográfica da instituição vinculada ao cliente."
      ],
      "metadata": {
        "id": "-EOD0P50n_Id"
      }
    },
    {
      "cell_type": "markdown",
      "source": [
        "# Analisando a relação entre Age e Exited"
      ],
      "metadata": {
        "id": "o1FRVb1to6mu"
      }
    },
    {
      "cell_type": "markdown",
      "source": [
        "## Distribuição de Age"
      ],
      "metadata": {
        "id": "Th0-5xceo6mw"
      }
    },
    {
      "cell_type": "code",
      "source": [
        "sns.boxplot(data=churn_data_raw, x='Age')"
      ],
      "metadata": {
        "colab": {
          "base_uri": "https://localhost:8080/",
          "height": 411
        },
        "outputId": "3b42839b-8913-4790-8110-92f1721df5c3",
        "id": "PH3YemuFo6m1"
      },
      "execution_count": 29,
      "outputs": [
        {
          "output_type": "execute_result",
          "data": {
            "text/plain": [
              "<matplotlib.axes._subplots.AxesSubplot at 0x7fe4b2c43410>"
            ]
          },
          "metadata": {},
          "execution_count": 29
        },
        {
          "output_type": "display_data",
          "data": {
            "text/plain": [
              "<Figure size 864x432 with 1 Axes>"
            ],
            "image/png": "[encoded data removed]"
          },
          "metadata": {}
        }
      ]
    },
    {
      "cell_type": "code",
      "source": [
        "churn_data_raw.Age.describe()"
      ],
      "metadata": {
        "colab": {
          "base_uri": "https://localhost:8080/"
        },
        "outputId": "35d991a8-c3d0-420b-ef5e-10370198565a",
        "id": "U0g9IiWeo6m5"
      },
      "execution_count": 30,
      "outputs": [
        {
          "output_type": "execute_result",
          "data": {
            "text/plain": [
              "count    10000.000000\n",
              "mean        38.921800\n",
              "std         10.487806\n",
              "min         18.000000\n",
              "25%         32.000000\n",
              "50%         37.000000\n",
              "75%         44.000000\n",
              "max         92.000000\n",
              "Name: Age, dtype: float64"
            ]
          },
          "metadata": {},
          "execution_count": 30
        }
      ]
    },
    {
      "cell_type": "markdown",
      "source": [
        "## Comparação entre diferentes status de churn"
      ],
      "metadata": {
        "id": "tbq6OGvuo6m7"
      }
    },
    {
      "cell_type": "code",
      "source": [
        "sns.boxplot(data=churn_data_raw, x='Exited', y='Age')"
      ],
      "metadata": {
        "colab": {
          "base_uri": "https://localhost:8080/",
          "height": 411
        },
        "outputId": "ba4b0f5e-a67a-42e3-f986-ea31406aedd9",
        "id": "UJrePcoQo6m-"
      },
      "execution_count": 31,
      "outputs": [
        {
          "output_type": "execute_result",
          "data": {
            "text/plain": [
              "<matplotlib.axes._subplots.AxesSubplot at 0x7fe4b2c0c4d0>"
            ]
          },
          "metadata": {},
          "execution_count": 31
        },
        {
          "output_type": "display_data",
          "data": {
            "text/plain": [
              "<Figure size 864x432 with 1 Axes>"
            ],
            "image/png": "[encoded data removed]"
          },
          "metadata": {}
        }
      ]
    },
    {
      "cell_type": "code",
      "source": [
        "print('Estatísticas para o perfil sem churn')\n",
        "churn_data_raw[churn_data_raw.Exited == 0].Age.describe()"
      ],
      "metadata": {
        "colab": {
          "base_uri": "https://localhost:8080/"
        },
        "outputId": "f6752928-502b-4889-8b61-129a26bed7af",
        "id": "_Xj2sI7Ho6m_"
      },
      "execution_count": 32,
      "outputs": [
        {
          "output_type": "stream",
          "name": "stdout",
          "text": [
            "Estatísticas para o perfil sem churn\n"
          ]
        },
        {
          "output_type": "execute_result",
          "data": {
            "text/plain": [
              "count    7963.000000\n",
              "mean       37.408389\n",
              "std        10.125363\n",
              "min        18.000000\n",
              "25%        31.000000\n",
              "50%        36.000000\n",
              "75%        41.000000\n",
              "max        92.000000\n",
              "Name: Age, dtype: float64"
            ]
          },
          "metadata": {},
          "execution_count": 32
        }
      ]
    },
    {
      "cell_type": "code",
      "source": [
        "print('Estatísticas para o perfil de churn')\n",
        "churn_data_raw[churn_data_raw.Exited == 1].Age.describe()"
      ],
      "metadata": {
        "colab": {
          "base_uri": "https://localhost:8080/"
        },
        "outputId": "81c3c30f-42d6-4059-b34e-661290467d09",
        "id": "YKobNUx4o6nB"
      },
      "execution_count": 33,
      "outputs": [
        {
          "output_type": "stream",
          "name": "stdout",
          "text": [
            "Estatísticas para o perfil de churn\n"
          ]
        },
        {
          "output_type": "execute_result",
          "data": {
            "text/plain": [
              "count    2037.000000\n",
              "mean       44.837997\n",
              "std         9.761562\n",
              "min        18.000000\n",
              "25%        38.000000\n",
              "50%        45.000000\n",
              "75%        51.000000\n",
              "max        84.000000\n",
              "Name: Age, dtype: float64"
            ]
          },
          "metadata": {},
          "execution_count": 33
        }
      ]
    },
    {
      "cell_type": "markdown",
      "source": [
        "Podemos notar que há uma diferença considerável nas distribuições de idade entre os clientes que deram churn e os que não deram. Em particular, notamos que **uma das características dos clientes que deram churn é ter uma idade elevada**."
      ],
      "metadata": {
        "id": "BNlzZ7Ggo6nD"
      }
    },
    {
      "cell_type": "markdown",
      "source": [
        "Um valor razoável para definir como critério para definir 'idade elevada' é a mediana do grupo de churn, ou seja, 45 anos."
      ],
      "metadata": {
        "id": "IASiH2ncqzb4"
      }
    },
    {
      "cell_type": "markdown",
      "source": [
        "# Analisando a relação entre Tenure e Exited"
      ],
      "metadata": {
        "id": "ab-v5EJStiDP"
      }
    },
    {
      "cell_type": "markdown",
      "source": [
        "## Distribuição de Tenure"
      ],
      "metadata": {
        "id": "hsJEidf4tiDU"
      }
    },
    {
      "cell_type": "code",
      "source": [
        "sns.boxplot(data=churn_data_raw, x='Tenure')"
      ],
      "metadata": {
        "colab": {
          "base_uri": "https://localhost:8080/",
          "height": 411
        },
        "outputId": "97a17c04-0b48-4ceb-8f2d-53490cc0feb8",
        "id": "pVV-ucsstiDY"
      },
      "execution_count": 36,
      "outputs": [
        {
          "output_type": "execute_result",
          "data": {
            "text/plain": [
              "<matplotlib.axes._subplots.AxesSubplot at 0x7fe4b2abefd0>"
            ]
          },
          "metadata": {},
          "execution_count": 36
        },
        {
          "output_type": "display_data",
          "data": {
            "text/plain": [
              "<Figure size 864x432 with 1 Axes>"
            ],
            "image/png": "[encoded data removed]"
          },
          "metadata": {}
        }
      ]
    },
    {
      "cell_type": "code",
      "source": [
        "churn_data_raw.Tenure.describe()"
      ],
      "metadata": {
        "colab": {
          "base_uri": "https://localhost:8080/"
        },
        "outputId": "f0ad5a4b-a7c6-457d-d0e8-e650da9ef18f",
        "id": "7TR_JPxhtiDc"
      },
      "execution_count": 37,
      "outputs": [
        {
          "output_type": "execute_result",
          "data": {
            "text/plain": [
              "count    10000.000000\n",
              "mean         5.012800\n",
              "std          2.892174\n",
              "min          0.000000\n",
              "25%          3.000000\n",
              "50%          5.000000\n",
              "75%          7.000000\n",
              "max         10.000000\n",
              "Name: Tenure, dtype: float64"
            ]
          },
          "metadata": {},
          "execution_count": 37
        }
      ]
    },
    {
      "cell_type": "markdown",
      "source": [
        "## Comparação entre diferentes status de churn"
      ],
      "metadata": {
        "id": "_MFSnuV_tiDg"
      }
    },
    {
      "cell_type": "code",
      "source": [
        "sns.boxplot(data=churn_data_raw, x='Exited', y='Tenure')"
      ],
      "metadata": {
        "colab": {
          "base_uri": "https://localhost:8080/",
          "height": 411
        },
        "outputId": "8af04289-27a5-456f-acdc-7c962fc61f68",
        "id": "y5ujxZuGtiDi"
      },
      "execution_count": 38,
      "outputs": [
        {
          "output_type": "execute_result",
          "data": {
            "text/plain": [
              "<matplotlib.axes._subplots.AxesSubplot at 0x7fe4b2a2efd0>"
            ]
          },
          "metadata": {},
          "execution_count": 38
        },
        {
          "output_type": "display_data",
          "data": {
            "text/plain": [
              "<Figure size 864x432 with 1 Axes>"
            ],
            "image/png": "[encoded data removed]"
          },
          "metadata": {}
        }
      ]
    },
    {
      "cell_type": "code",
      "source": [
        "print('Estatísticas para o perfil sem churn')\n",
        "churn_data_raw[churn_data_raw.Exited == 0].Tenure.describe()"
      ],
      "metadata": {
        "colab": {
          "base_uri": "https://localhost:8080/"
        },
        "outputId": "5263b056-4af1-49ed-fd09-1bed138e4648",
        "id": "las1oJButiDt"
      },
      "execution_count": 40,
      "outputs": [
        {
          "output_type": "stream",
          "name": "stdout",
          "text": [
            "Estatísticas para o perfil sem churn\n"
          ]
        },
        {
          "output_type": "execute_result",
          "data": {
            "text/plain": [
              "count    7963.000000\n",
              "mean        5.033279\n",
              "std         2.880658\n",
              "min         0.000000\n",
              "25%         3.000000\n",
              "50%         5.000000\n",
              "75%         7.000000\n",
              "max        10.000000\n",
              "Name: Tenure, dtype: float64"
            ]
          },
          "metadata": {},
          "execution_count": 40
        }
      ]
    },
    {
      "cell_type": "code",
      "source": [
        "print('Estatísticas para o perfil de churn')\n",
        "churn_data_raw[churn_data_raw.Exited == 1].Tenure.describe()"
      ],
      "metadata": {
        "colab": {
          "base_uri": "https://localhost:8080/"
        },
        "outputId": "e5b0ac12-f727-4e33-b44d-cb501dcba25b",
        "id": "R5IG2wZbtiDy"
      },
      "execution_count": 41,
      "outputs": [
        {
          "output_type": "stream",
          "name": "stdout",
          "text": [
            "Estatísticas para o perfil de churn\n"
          ]
        },
        {
          "output_type": "execute_result",
          "data": {
            "text/plain": [
              "count    2037.000000\n",
              "mean        4.932744\n",
              "std         2.936106\n",
              "min         0.000000\n",
              "25%         2.000000\n",
              "50%         5.000000\n",
              "75%         8.000000\n",
              "max        10.000000\n",
              "Name: Tenure, dtype: float64"
            ]
          },
          "metadata": {},
          "execution_count": 41
        }
      ]
    },
    {
      "cell_type": "markdown",
      "source": [
        "Podemos notar que não há uma diferença considerável nas distribuições de Tenure entre os clientes que deram churn e os que não deram."
      ],
      "metadata": {
        "id": "SGN9GT-EtiD2"
      }
    },
    {
      "cell_type": "markdown",
      "source": [
        "# Analisando a relação entre HasCrCard e Exited"
      ],
      "metadata": {
        "id": "KK2hvM22wu7-"
      }
    },
    {
      "cell_type": "markdown",
      "source": [
        "## Distribuição de HasCrCard"
      ],
      "metadata": {
        "id": "W8H-CdC2wu8C"
      }
    },
    {
      "cell_type": "code",
      "source": [
        "sns.histplot(data=churn_data_raw, x='HasCrCard')"
      ],
      "metadata": {
        "colab": {
          "base_uri": "https://localhost:8080/",
          "height": 411
        },
        "outputId": "fbace3aa-4135-45e1-8aba-807bad172eb5",
        "id": "7PHqhUz8wu8F"
      },
      "execution_count": 46,
      "outputs": [
        {
          "output_type": "execute_result",
          "data": {
            "text/plain": [
              "<matplotlib.axes._subplots.AxesSubplot at 0x7fe4b2808810>"
            ]
          },
          "metadata": {},
          "execution_count": 46
        },
        {
          "output_type": "display_data",
          "data": {
            "text/plain": [
              "<Figure size 864x432 with 1 Axes>"
            ],
            "image/png": "[encoded data removed]"
          },
          "metadata": {}
        }
      ]
    },
    {
      "cell_type": "code",
      "source": [
        "churn_data_raw.HasCrCard.value_counts()"
      ],
      "metadata": {
        "colab": {
          "base_uri": "https://localhost:8080/"
        },
        "outputId": "dd431619-d77c-4079-87c7-fa2d47d11cb6",
        "id": "MhSw008Bwu8K"
      },
      "execution_count": 48,
      "outputs": [
        {
          "output_type": "execute_result",
          "data": {
            "text/plain": [
              "1    7055\n",
              "0    2945\n",
              "Name: HasCrCard, dtype: int64"
            ]
          },
          "metadata": {},
          "execution_count": 48
        }
      ]
    },
    {
      "cell_type": "markdown",
      "source": [
        "## Comparação entre diferentes status de churn"
      ],
      "metadata": {
        "id": "rFD-3nmWwu8N"
      }
    },
    {
      "cell_type": "code",
      "source": [
        "sns.histplot(data=churn_data_raw, x='Exited', hue='HasCrCard', multiple='dodge')"
      ],
      "metadata": {
        "colab": {
          "base_uri": "https://localhost:8080/",
          "height": 411
        },
        "outputId": "08fefa65-13d8-4981-dce4-3684cc427295",
        "id": "-YdG1J-Zwu8R"
      },
      "execution_count": 50,
      "outputs": [
        {
          "output_type": "execute_result",
          "data": {
            "text/plain": [
              "<matplotlib.axes._subplots.AxesSubplot at 0x7fe4b2847450>"
            ]
          },
          "metadata": {},
          "execution_count": 50
        },
        {
          "output_type": "display_data",
          "data": {
            "text/plain": [
              "<Figure size 864x432 with 1 Axes>"
            ],
            "image/png": "[encoded data removed]"
          },
          "metadata": {}
        }
      ]
    },
    {
      "cell_type": "markdown",
      "source": [
        "Podemos notar que não há elementos para considerarmos que o fato de um cliente ter ou não cartão de crédito influencia decisivamente sua chande de dar churn."
      ],
      "metadata": {
        "id": "TiwtfXI4wu8b"
      }
    },
    {
      "cell_type": "markdown",
      "source": [
        "# Analisando a relação entre IsActiveMember e Exited"
      ],
      "metadata": {
        "id": "CUxS669szN9C"
      }
    },
    {
      "cell_type": "markdown",
      "source": [
        "## Distribuição de IsActiveMember"
      ],
      "metadata": {
        "id": "v5pMx6gazN9I"
      }
    },
    {
      "cell_type": "code",
      "source": [
        "sns.histplot(data=churn_data_raw, x='IsActiveMember')"
      ],
      "metadata": {
        "colab": {
          "base_uri": "https://localhost:8080/",
          "height": 411
        },
        "outputId": "d76d4c81-ac3c-4828-a28c-ad9b2dbe1e6f",
        "id": "bXzb2QJWzN9L"
      },
      "execution_count": 53,
      "outputs": [
        {
          "output_type": "execute_result",
          "data": {
            "text/plain": [
              "<matplotlib.axes._subplots.AxesSubplot at 0x7fe4b25b7890>"
            ]
          },
          "metadata": {},
          "execution_count": 53
        },
        {
          "output_type": "display_data",
          "data": {
            "text/plain": [
              "<Figure size 864x432 with 1 Axes>"
            ],
            "image/png": "[encoded data removed]"
          },
          "metadata": {}
        }
      ]
    },
    {
      "cell_type": "code",
      "source": [
        "churn_data_raw.IsActiveMember.value_counts()"
      ],
      "metadata": {
        "colab": {
          "base_uri": "https://localhost:8080/"
        },
        "outputId": "3e118a32-573a-4487-c028-fffeb9034a63",
        "id": "fJzwjreFzN9U"
      },
      "execution_count": 54,
      "outputs": [
        {
          "output_type": "execute_result",
          "data": {
            "text/plain": [
              "1    5151\n",
              "0    4849\n",
              "Name: IsActiveMember, dtype: int64"
            ]
          },
          "metadata": {},
          "execution_count": 54
        }
      ]
    },
    {
      "cell_type": "markdown",
      "source": [
        "## Comparação entre diferentes status de churn"
      ],
      "metadata": {
        "id": "8nfyhBwdzN9i"
      }
    },
    {
      "cell_type": "code",
      "source": [
        "sns.histplot(data=churn_data_raw, x='Exited', hue='IsActiveMember', multiple='dodge')"
      ],
      "metadata": {
        "colab": {
          "base_uri": "https://localhost:8080/",
          "height": 411
        },
        "outputId": "30ecb2bf-5c9a-4704-c124-8b0e19401725",
        "id": "CIPXJMrezN9o"
      },
      "execution_count": 55,
      "outputs": [
        {
          "output_type": "execute_result",
          "data": {
            "text/plain": [
              "<matplotlib.axes._subplots.AxesSubplot at 0x7fe4b25d9890>"
            ]
          },
          "metadata": {},
          "execution_count": 55
        },
        {
          "output_type": "display_data",
          "data": {
            "text/plain": [
              "<Figure size 864x432 with 1 Axes>"
            ],
            "image/png": "[encoded data removed]"
          },
          "metadata": {}
        }
      ]
    },
    {
      "cell_type": "markdown",
      "source": [
        "Podemos notar que não há elementos para considerarmos que o fato de um cliente estar ou não ativo influencia decisivamente sua chande de dar churn."
      ],
      "metadata": {
        "id": "ffe8x8skzN9v"
      }
    },
    {
      "cell_type": "markdown",
      "source": [
        "# Analisando a relação entre EstimatedSalary e Exited"
      ],
      "metadata": {
        "id": "sdP9RCHd0Z0j"
      }
    },
    {
      "cell_type": "markdown",
      "source": [
        "## Distribuição de EstimatedSalary"
      ],
      "metadata": {
        "id": "3CwHBPqV0Z0m"
      }
    },
    {
      "cell_type": "code",
      "source": [
        "sns.boxplot(data=churn_data_raw, x='EstimatedSalary')"
      ],
      "metadata": {
        "colab": {
          "base_uri": "https://localhost:8080/",
          "height": 411
        },
        "outputId": "f74163df-8a94-4ebe-f6c9-21923d2eb385",
        "id": "Irx8UDor0Z0w"
      },
      "execution_count": 62,
      "outputs": [
        {
          "output_type": "execute_result",
          "data": {
            "text/plain": [
              "<matplotlib.axes._subplots.AxesSubplot at 0x7fe4b232c8d0>"
            ]
          },
          "metadata": {},
          "execution_count": 62
        },
        {
          "output_type": "display_data",
          "data": {
            "text/plain": [
              "<Figure size 864x432 with 1 Axes>"
            ],
            "image/png": "[encoded data removed]"
          },
          "metadata": {}
        }
      ]
    },
    {
      "cell_type": "code",
      "source": [
        "churn_data_raw.EstimatedSalary.describe()"
      ],
      "metadata": {
        "colab": {
          "base_uri": "https://localhost:8080/"
        },
        "outputId": "f01ad157-324d-49f4-9292-2c6e2a3063e5",
        "id": "TDn2dZuV0Z01"
      },
      "execution_count": 63,
      "outputs": [
        {
          "output_type": "execute_result",
          "data": {
            "text/plain": [
              "count     10000.000000\n",
              "mean     100090.239881\n",
              "std       57510.492818\n",
              "min          11.580000\n",
              "25%       51002.110000\n",
              "50%      100193.915000\n",
              "75%      149388.247500\n",
              "max      199992.480000\n",
              "Name: EstimatedSalary, dtype: float64"
            ]
          },
          "metadata": {},
          "execution_count": 63
        }
      ]
    },
    {
      "cell_type": "markdown",
      "source": [
        "## Comparação entre diferentes status de churn"
      ],
      "metadata": {
        "id": "-I32CVwg0Z04"
      }
    },
    {
      "cell_type": "code",
      "source": [
        "sns.boxplot(data=churn_data_raw, x='Exited', y='EstimatedSalary')"
      ],
      "metadata": {
        "colab": {
          "base_uri": "https://localhost:8080/",
          "height": 411
        },
        "outputId": "8a2b5117-9fb4-49b5-f223-2161144196db",
        "id": "hXKAiPFi0Z07"
      },
      "execution_count": 64,
      "outputs": [
        {
          "output_type": "execute_result",
          "data": {
            "text/plain": [
              "<matplotlib.axes._subplots.AxesSubplot at 0x7fe4b228eb10>"
            ]
          },
          "metadata": {},
          "execution_count": 64
        },
        {
          "output_type": "display_data",
          "data": {
            "text/plain": [
              "<Figure size 864x432 with 1 Axes>"
            ],
            "image/png": "[encoded data removed]"
          },
          "metadata": {}
        }
      ]
    },
    {
      "cell_type": "code",
      "source": [
        "print('Estatísticas para o perfil sem churn')\n",
        "churn_data_raw[churn_data_raw.Exited == 0].EstimatedSalary.describe()"
      ],
      "metadata": {
        "colab": {
          "base_uri": "https://localhost:8080/"
        },
        "outputId": "56eb1405-3e36-4394-8aa8-31a11689f44d",
        "id": "Ny7d8O6T0Z0-"
      },
      "execution_count": 66,
      "outputs": [
        {
          "output_type": "stream",
          "name": "stdout",
          "text": [
            "Estatísticas para o perfil sem churn\n"
          ]
        },
        {
          "output_type": "execute_result",
          "data": {
            "text/plain": [
              "count      7963.000000\n",
              "mean      99738.391772\n",
              "std       57405.586966\n",
              "min          90.070000\n",
              "25%       50783.490000\n",
              "50%       99645.040000\n",
              "75%      148609.955000\n",
              "max      199992.480000\n",
              "Name: EstimatedSalary, dtype: float64"
            ]
          },
          "metadata": {},
          "execution_count": 66
        }
      ]
    },
    {
      "cell_type": "code",
      "source": [
        "print('Estatísticas para o perfil de churn')\n",
        "churn_data_raw[churn_data_raw.Exited == 1].EstimatedSalary.describe()"
      ],
      "metadata": {
        "colab": {
          "base_uri": "https://localhost:8080/"
        },
        "outputId": "7d7a32a2-ac35-4ee3-861d-81d1531e58b7",
        "id": "tm6xNPSt0Z1B"
      },
      "execution_count": 67,
      "outputs": [
        {
          "output_type": "stream",
          "name": "stdout",
          "text": [
            "Estatísticas para o perfil de churn\n"
          ]
        },
        {
          "output_type": "execute_result",
          "data": {
            "text/plain": [
              "count      2037.000000\n",
              "mean     101465.677531\n",
              "std       57912.418071\n",
              "min          11.580000\n",
              "25%       51907.720000\n",
              "50%      102460.840000\n",
              "75%      152422.910000\n",
              "max      199808.100000\n",
              "Name: EstimatedSalary, dtype: float64"
            ]
          },
          "metadata": {},
          "execution_count": 67
        }
      ]
    },
    {
      "cell_type": "markdown",
      "source": [
        "Apesar do valor do primeiro quartil para os balanços das contas dos usuários que deram churn ser maior do que entre os que permaneceram no banco, o que é contraintuitivo de certa forma, não notamos um efeito decisivo dessa variável no fenômeno estudado."
      ],
      "metadata": {
        "id": "_H1YKdIZ0Z1E"
      }
    },
    {
      "cell_type": "markdown",
      "source": [
        "# Analisando a relação entre Balance e Exited"
      ],
      "metadata": {
        "id": "NcIAX1a22Tqt"
      }
    },
    {
      "cell_type": "markdown",
      "source": [
        "## Distribuição de Balance"
      ],
      "metadata": {
        "id": "kWO3TOf02Tqz"
      }
    },
    {
      "cell_type": "code",
      "source": [
        "sns.boxplot(data=churn_data_raw, x='Balance')"
      ],
      "metadata": {
        "colab": {
          "base_uri": "https://localhost:8080/",
          "height": 411
        },
        "outputId": "7f456520-f752-47b1-c286-cdd660156471",
        "id": "h9FPV4MP2Tq9"
      },
      "execution_count": null,
      "outputs": [
        {
          "output_type": "execute_result",
          "data": {
            "text/plain": [
              "<matplotlib.axes._subplots.AxesSubplot at 0x7fe4b24ed5d0>"
            ]
          },
          "metadata": {},
          "execution_count": 56
        },
        {
          "output_type": "display_data",
          "data": {
            "text/plain": [
              "<Figure size 864x432 with 1 Axes>"
            ],
            "image/png": "[encoded data removed]"
          },
          "metadata": {}
        }
      ]
    },
    {
      "cell_type": "code",
      "source": [
        "churn_data_raw.Balance.describe()"
      ],
      "metadata": {
        "colab": {
          "base_uri": "https://localhost:8080/"
        },
        "outputId": "850680b3-2ebb-456c-f289-3ad7ff2ca282",
        "id": "6vYZOunA2TrC"
      },
      "execution_count": null,
      "outputs": [
        {
          "output_type": "execute_result",
          "data": {
            "text/plain": [
              "count     10000.000000\n",
              "mean      76485.889288\n",
              "std       62397.405202\n",
              "min           0.000000\n",
              "25%           0.000000\n",
              "50%       97198.540000\n",
              "75%      127644.240000\n",
              "max      250898.090000\n",
              "Name: Balance, dtype: float64"
            ]
          },
          "metadata": {},
          "execution_count": 57
        }
      ]
    },
    {
      "cell_type": "markdown",
      "source": [
        "## Comparação entre diferentes status de churn"
      ],
      "metadata": {
        "id": "-itOtIEj2TrF"
      }
    },
    {
      "cell_type": "code",
      "source": [
        "sns.boxplot(data=churn_data_raw, x='Exited', y='Balance')"
      ],
      "metadata": {
        "colab": {
          "base_uri": "https://localhost:8080/",
          "height": 411
        },
        "outputId": "3c005183-496e-44f8-837e-01a430582ba1",
        "id": "S-KILkap2TrH"
      },
      "execution_count": null,
      "outputs": [
        {
          "output_type": "execute_result",
          "data": {
            "text/plain": [
              "<matplotlib.axes._subplots.AxesSubplot at 0x7fe4b2393b90>"
            ]
          },
          "metadata": {},
          "execution_count": 58
        },
        {
          "output_type": "display_data",
          "data": {
            "text/plain": [
              "<Figure size 864x432 with 1 Axes>"
            ],
            "image/png": "[encoded data removed]"
          },
          "metadata": {}
        }
      ]
    },
    {
      "cell_type": "code",
      "source": [
        "print('Estatísticas para o perfil sem churn')\n",
        "churn_data_raw[churn_data_raw.Exited == 0].Balance.describe()"
      ],
      "metadata": {
        "colab": {
          "base_uri": "https://localhost:8080/"
        },
        "outputId": "66303292-b771-4e43-a828-1c76ed5619bd",
        "id": "8lCBTMEs2TrK"
      },
      "execution_count": null,
      "outputs": [
        {
          "output_type": "stream",
          "name": "stdout",
          "text": [
            "Estatísticas para o perfil sem churn\n"
          ]
        },
        {
          "output_type": "execute_result",
          "data": {
            "text/plain": [
              "count      7963.000000\n",
              "mean      72745.296779\n",
              "std       62848.040701\n",
              "min           0.000000\n",
              "25%           0.000000\n",
              "50%       92072.680000\n",
              "75%      126410.280000\n",
              "max      221532.800000\n",
              "Name: Balance, dtype: float64"
            ]
          },
          "metadata": {},
          "execution_count": 60
        }
      ]
    },
    {
      "cell_type": "code",
      "source": [
        "print('Estatísticas para o perfil de churn')\n",
        "churn_data_raw[churn_data_raw.Exited == 1].Balance.describe()"
      ],
      "metadata": {
        "colab": {
          "base_uri": "https://localhost:8080/"
        },
        "outputId": "5fc8c46d-b820-4846-8f88-62ccba16d032",
        "id": "SFK-AOjf2TrO"
      },
      "execution_count": null,
      "outputs": [
        {
          "output_type": "stream",
          "name": "stdout",
          "text": [
            "Estatísticas para o perfil de churn\n"
          ]
        },
        {
          "output_type": "execute_result",
          "data": {
            "text/plain": [
              "count      2037.000000\n",
              "mean      91108.539337\n",
              "std       58360.794816\n",
              "min           0.000000\n",
              "25%       38340.020000\n",
              "50%      109349.290000\n",
              "75%      131433.330000\n",
              "max      250898.090000\n",
              "Name: Balance, dtype: float64"
            ]
          },
          "metadata": {},
          "execution_count": 61
        }
      ]
    },
    {
      "cell_type": "markdown",
      "source": [
        "Apesar do valor do primeiro quartil para os balanços das contas dos usuários que deram churn ser maior do que entre os que permaneceram no banco, o que é contraintuitivo de certa forma, não notamos um efeito decisivo dessa variável no fenômeno estudado."
      ],
      "metadata": {
        "id": "2I7Xw_pg2TrR"
      }
    }
  ]
}